{
 "cells": [
  {
   "cell_type": "markdown",
   "metadata": {},
   "source": [
    "# Segundo artigo da série\n",
    "\n",
    "Veja o artigo em [QuantBrasil](https://quantbrasil.com.br/criando-uma-base-de-dados-de-precos-de-ativos-utilizando-python-e-sql)\n",
    "\n",
    "> Importante executar antes os códigos de preparação do banco de dados em setup_db.ipynb"
   ]
  },
  {
   "cell_type": "code",
   "execution_count": 1,
   "metadata": {},
   "outputs": [],
   "source": [
    "import pandas as pd \n",
    "import numpy as np\n",
    "\n",
    "import sqlalchemy\n",
    "from sqlalchemy import create_engine\n",
    "\n",
    "import psycopg2"
   ]
  },
  {
   "cell_type": "code",
   "execution_count": 2,
   "metadata": {},
   "outputs": [],
   "source": [
    "# Replace the variables below with your own data\n",
    "user_name = 'postgres'\n",
    "password = 'admin'\n",
    "host = 'localhost'\n",
    "port = 5432\n",
    "db_name = 'quant'\n",
    "\n",
    "DB_ADDRESS = \"postgresql://{}:{}@{}:{}/{}\".format(user_name, password, host, port, db_name)\n",
    "engine = create_engine(DB_ADDRESS)"
   ]
  },
  {
   "cell_type": "code",
   "execution_count": 6,
   "metadata": {},
   "outputs": [
    {
     "data": {
      "text/plain": [
       "<sqlalchemy.engine.cursor.LegacyCursorResult at 0x7f2cebb54490>"
      ]
     },
     "execution_count": 6,
     "metadata": {},
     "output_type": "execute_result"
    }
   ],
   "source": [
    "# Creating timeframe table\n",
    "timeframe_query = \"\"\" CREATE TABLE timeframe(\n",
    "    id VARCHAR(5) PRIMARY KEY,\n",
    "    description VARCHAR(15) NOT NULL\n",
    ");\"\"\"\n",
    "engine.execute(timeframe_query)\n",
    "\n",
    "# Creating price table\n",
    "price_query = \"\"\"CREATE TABLE price(\n",
    "    id BIGSERIAL,\n",
    "    asset_id INTEGER NOT NULL REFERENCES asset(id),\n",
    "    timeframe_id VARCHAR(5) NOT NULL REFERENCES timeframe(id),\n",
    "    datetime TIMESTAMP NOT NULL,\n",
    "    open DOUBLE PRECISION,\n",
    "    high DOUBLE PRECISION,\n",
    "    low DOUBLE PRECISION,\n",
    "    close DOUBLE PRECISION,\n",
    "    volume INTEGER,\n",
    "    PRIMARY KEY(id, datetime),\n",
    "    UNIQUE(asset_id, timeframe_id, datetime)\n",
    ");\"\"\"\n",
    "engine.execute(price_query)"
   ]
  },
  {
   "cell_type": "code",
   "execution_count": 7,
   "metadata": {},
   "outputs": [
    {
     "data": {
      "text/plain": [
       "<sqlalchemy.engine.cursor.LegacyCursorResult at 0x7f2cebc1c760>"
      ]
     },
     "execution_count": 7,
     "metadata": {},
     "output_type": "execute_result"
    }
   ],
   "source": [
    "insert_query = \"\"\"INSERT INTO timeframe(id, description)\n",
    "    VALUES('M5', '5 minutes'),\n",
    "    ('M10', '10 minutes'),\n",
    "    ('M15', '15 minutes'),\n",
    "    ('M30', '30 minutes'),\n",
    "    ('H1', '1 hour'),\n",
    "    ('H2', '2 hours'),\n",
    "    ('H4', '4 hours'),\n",
    "    ('D1', 'Daily'),\n",
    "    ('W1', 'Weekly'),\n",
    "    ('MN', 'Monthly');\"\"\"\n",
    "engine.execute(insert_query)"
   ]
  }
 ],
 "metadata": {
  "kernelspec": {
   "display_name": "Python 3 (ipykernel)",
   "language": "python",
   "name": "python3"
  },
  "language_info": {
   "codemirror_mode": {
    "name": "ipython",
    "version": 3
   },
   "file_extension": ".py",
   "mimetype": "text/x-python",
   "name": "python",
   "nbconvert_exporter": "python",
   "pygments_lexer": "ipython3",
   "version": "3.9.7"
  },
  "orig_nbformat": 4
 },
 "nbformat": 4,
 "nbformat_minor": 2
}
